{
  "nbformat": 4,
  "nbformat_minor": 0,
  "metadata": {
    "colab": {
      "provenance": [],
      "authorship_tag": "ABX9TyOq4+Ez5VQP8jgjOouzD2y4",
      "include_colab_link": true
    },
    "kernelspec": {
      "name": "python3",
      "display_name": "Python 3"
    },
    "language_info": {
      "name": "python"
    }
  },
  "cells": [
    {
      "cell_type": "markdown",
      "metadata": {
        "id": "view-in-github",
        "colab_type": "text"
      },
      "source": [
        "<a href=\"https://colab.research.google.com/github/sergiogonzalezperez/RepasoPython5R/blob/main/SergioGP1.ipynb\" target=\"_parent\"><img src=\"https://colab.research.google.com/assets/colab-badge.svg\" alt=\"Open In Colab\"/></a>"
      ]
    },
    {
      "cell_type": "markdown",
      "source": [
        "Realizar un programa que permita capturar tu nombre y lo imprima seguido de una bienvenida"
      ],
      "metadata": {
        "id": "iyL87qNz_OMx"
      }
    },
    {
      "cell_type": "code",
      "source": [
        "nombre=input(\"Captura tu nombre\")\n",
        "print(nombre,\" Bienvenida/o a clase\")"
      ],
      "metadata": {
        "colab": {
          "base_uri": "https://localhost:8080/"
        },
        "id": "6F2qxmbz_eyH",
        "outputId": "df1fbfed-e4ac-4af7-d47a-0ba8311fac0a"
      },
      "execution_count": 2,
      "outputs": [
        {
          "output_type": "stream",
          "name": "stdout",
          "text": [
            "Captura tu nombreSergio\n",
            "Sergio  Bienvenida/o a clase\n"
          ]
        }
      ]
    },
    {
      "cell_type": "code",
      "execution_count": null,
      "metadata": {
        "id": "-rkR2HyD-5Xj"
      },
      "outputs": [],
      "source": []
    },
    {
      "cell_type": "markdown",
      "source": [
        "Realizar un programa que permita capturar 2 numeros enteros e imprima la suma, la resta, la multiplicación y la división entre ellos."
      ],
      "metadata": {
        "id": "xc4Z9GlzCnUX"
      }
    },
    {
      "cell_type": "code",
      "source": [
        "num1=int(input(\"Captura un numero\"))\n",
        "num2=int(input(\"Captura un numero\"))\n",
        "s=num1+num2\n",
        "print(\"La suma es\",s)\n"
      ],
      "metadata": {
        "colab": {
          "base_uri": "https://localhost:8080/"
        },
        "id": "NpHFpCexC8Wv",
        "outputId": "bd1741c3-3a25-4cdd-ce56-6f59a1351a25"
      },
      "execution_count": 3,
      "outputs": [
        {
          "output_type": "stream",
          "name": "stdout",
          "text": [
            "Captura un numero5\n",
            "Captura un numero6\n",
            "La suma es 11\n"
          ]
        }
      ]
    }
  ]
}